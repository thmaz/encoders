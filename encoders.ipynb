{
 "cells": [
  {
   "cell_type": "markdown",
   "metadata": {},
   "source": [
    "#### PI7-3: AE & VAE\n",
    "This notebook contains all the implementation and evaluation of the research performed on autoencoders en variational autoencoders."
   ]
  },
  {
   "cell_type": "code",
   "execution_count": 5,
   "metadata": {},
   "outputs": [],
   "source": [
    "import torch\n",
    "from torch import nn\n",
    "from torch.nn import functional as F\n",
    "import matplotlib.pyplot as plt\n",
    "import numpy as np"
   ]
  },
  {
   "cell_type": "code",
   "execution_count": 6,
   "metadata": {},
   "outputs": [],
   "source": [
    "class Encoder(nn.Module):\n",
    "    def __init__(self, z_space: int):\n",
    "        super().__init__()\n",
    "        self.z_space = z_space\n",
    "\n",
    "        # (input)1->64, 64->128, 128->256, 256->z_space\n",
    "        self.net = nn.Sequential(\n",
    "            nn.Conv2d(1, 64, kernel_size=2, stride=1, padding=1, bias=False),\n",
    "            nn.BatchNorm2d(64, affine=True),\n",
    "            nn.ReLU(inplace=True),\n",
    "\n",
    "            nn.Conv2d(64, 128, kernel_size=2, stride=1, padding=1, bias=False),\n",
    "            nn.BatchNorm2d(128, affine=True),\n",
    "            nn.ReLU(inplace=True),\n",
    "\n",
    "            nn.Conv2d(128, 256, kernel_size=2, stride=1, padding=1, bias=False),\n",
    "            nn.BatchNorm2d(128, affine=True),\n",
    "            nn.ReLU(inplace=True),\n",
    "\n",
    "            nn.Conv2d(256, z_space, kernel_size=2, stride=1, padding=1, bias=False)\n",
    "        )\n",
    "        \n",
    "\n",
    "    def forward(self, X: torch.Tensor):\n",
    "        return self.net(X)"
   ]
  },
  {
   "cell_type": "code",
   "execution_count": 7,
   "metadata": {},
   "outputs": [],
   "source": [
    "class Decoder(nn.Module):\n",
    "    def __init__ (self, z_space: int):\n",
    "        super().__init__()\n",
    "        self.z_space = z_space\n",
    "\n",
    "        # z_space->, 256->128, 128->64, 64->1 \n",
    "        self.net = nn.Sequential(\n",
    "            nn.ConvTranspose2d(z_space, 256, kernel_size=2, stride=1, padding=1, bias=False),\n",
    "            nn.BatchNorm2d(128, affine=True),\n",
    "            nn.ReLU(inplace=True),\n",
    "\n",
    "            nn.ConvTranspose2d(256, 128, kernel_size=2, stride=1, padding=1, bias=False),\n",
    "            nn.BatchNorm2d(128, affine=True),\n",
    "            nn.ReLU(inplace=True),\n",
    "            \n",
    "            nn.ConvTranspose2d(128, 64, kernel_size=2, stride=1, padding=1, bias=False),\n",
    "            nn.BatchNorm2d(64, affine=True),\n",
    "            nn.ReLU(inplace=True),\n",
    "\n",
    "            nn.ConvTranspose2d(64, 1, kernel_size=2, stride=1, padding=1, bias=False),\n",
    "        )\n",
    "\n",
    "    def forward(self, X: torch.Tensor):\n",
    "        return self.net(X)\n"
   ]
  },
  {
   "cell_type": "code",
   "execution_count": null,
   "metadata": {},
   "outputs": [],
   "source": [
    "class AutoEncoder:\n",
    "    def __init__(self, z_space):\n",
    "        super().__init__()\n",
    "        self.encode = Encoder(z_space)\n",
    "        self.decode = Decoder(z_space)\n",
    "\n",
    "    def forward(self, X: torch.Tensor):\n",
    "        z = self.encode(X)\n",
    "        y = self.decode(z)\n",
    "        \n",
    "        return z, y"
   ]
  }
 ],
 "metadata": {
  "kernelspec": {
   "display_name": ".venv",
   "language": "python",
   "name": "python3"
  },
  "language_info": {
   "codemirror_mode": {
    "name": "ipython",
    "version": 3
   },
   "file_extension": ".py",
   "mimetype": "text/x-python",
   "name": "python",
   "nbconvert_exporter": "python",
   "pygments_lexer": "ipython3",
   "version": "3.13.2"
  }
 },
 "nbformat": 4,
 "nbformat_minor": 2
}
